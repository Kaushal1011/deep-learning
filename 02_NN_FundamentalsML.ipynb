{
 "cells": [
  {
   "cell_type": "markdown",
   "metadata": {},
   "source": [
    "# Neural Networks and Fundamentals of ML\n"
   ]
  },
  {
   "cell_type": "markdown",
   "metadata": {},
   "source": [
    "## Four Branches of ML\n",
    "\n",
    "### Supervised Learning\n",
    "\n",
    "This is by far the most common case. It consists of learning to map input data to\n",
    "known targets (also called annotations), given a set of examples (often annotated by\n",
    "humans). Generally, almost all applications of deep learning\n",
    "that are in the spotlight these days belong in this category, such as optical character\n",
    "recognition, speech recognition, image classification, and language translation.\n",
    "\n",
    " Although supervised learning mostly consists of classification and regression, there\n",
    "are more exotic variants as well, including the following (with examples):\n",
    "- Sequence generation—Given a picture, predict a caption describing it. Sequence generation can sometimes be reformulated as a series of classification problems (such as repeatedly predicting a word or token in a sequence).\n",
    "- Syntax tree prediction—Given a sentence, predict its decomposition into a syntax tree.\n",
    "- Object detection—Given a picture, draw a bounding box around certain objects inside the picture. This can also be expressed as a classification problem (given many candidate bounding boxes, classify the contents of each one) or as a joint classification and regression problem, where the bounding-box coordinates are predicted via vector regression.\n",
    "- Image segmentation—Given a picture, draw a pixel-level mask on a specific object. \n"
   ]
  },
  {
   "cell_type": "markdown",
   "metadata": {},
   "source": [
    "### Unsupervised Learning\n",
    "\n",
    "This branch of machine learning consists of finding interesting transformations of the\n",
    "input data without the help of any targets, for the purposes of data visualization, data\n",
    "compression, or data denoising, or to better understand the correlations present in\n",
    "the data at hand. Unsupervised learning is the bread and butter of data analytics, and\n",
    "it’s often a necessary step in better understanding a dataset before attempting to solve\n",
    "a supervised-learning problem. Dimensionality reduction and clustering are well-known\n",
    "categories of unsupervised learning. \n"
   ]
  },
  {
   "cell_type": "markdown",
   "metadata": {},
   "source": [
    "### Self-Supervised Learning\n",
    "\n",
    " Self-supervised learning is supervised learning without human-annotated labels—you can think of it as supervised learning without any\n",
    "humans in the loop. There are still labels involved (because the learning has to be\n",
    "supervised by something), but they’re generated from the input data, typically using a\n",
    "heuristic algorithm.\n",
    "\n"
   ]
  },
  {
   "cell_type": "markdown",
   "metadata": {},
   "source": [
    "### Reinforcement learning\n",
    "\n",
    " In reinforcement learning,\n",
    "an agent receives information about its environment and learns to choose actions that\n",
    "will maximize some reward. For instance, a neural network that “looks” at a videogame screen and outputs game actions in order to maximize its score can be trained\n",
    "via reinforcement learning.\n",
    " Currently, reinforcement learning is mostly a research area and hasn’t yet had significant practical successes beyond games."
   ]
  },
  {
   "cell_type": "markdown",
   "metadata": {},
   "source": [
    "##  ML Specific Definitions\n",
    "\n",
    "- Sample or input—One data point that goes into your model.\n",
    "- Prediction or output—What comes out of your model.\n",
    "- Target—The truth. What your model should ideally have predicted, according to an external source of data Prediction error or loss value—A measure of the distance between your model’s prediction and the target.\n",
    "- Classes—A set of possible labels to choose from in a classification problem. For example, when classifying cat and dog pictures, “dog” and “cat” are the two classes.\n",
    "- Label—A specific instance of a class annotation in a classification problem. For instance, if picture #1234 is annotated as containing the class “dog,” then “dog” is a label of picture #1234.\n",
    "- Ground-truth or annotations—All targets for a dataset, typically collected by humans.\n",
    "- Binary classification—A classification task where each input sample should be categorized into two exclusive categories.\n",
    "- Multiclass classification—A classification task where each input sample should be categorized into more than two categories: for instance, classifying handwritten digits.\n",
    "- Multilabel classification—A classification task where each input sample can be assigned multiple labels. For instance, a given image may contain both a cat and a dog and should be annotated both with the “cat” label and the “dog” label. The number of labels per image is usually variable.\n",
    "- Scalar regression—A task where the target is a continuous scalar value. Predicting house prices is a good example: the different target prices form a continuous space.\n",
    "- Vector regression—A task where the target is a set of continuous values: for example, a continuous vector. If you’re doing regression against multiple values (such as the coordinates of a bounding box in an image), then you’re doing vector regression.\n",
    "- Mini-batch or batch—A small set of samples (typically between 8 and 128) that are processed simultaneously by the model. The number of samples is often a power of 2, to facilitate memory allocation on GPU. When training, a mini-batch is used to compute a single gradient-descent update applied to the weights of the model. "
   ]
  },
  {
   "cell_type": "markdown",
   "metadata": {},
   "source": [
    "## Evaluating Machine Learning Models\n",
    "\n",
    "Evaluating a model always boils down to splitting the available data into three sets:\n",
    "training, validation, and test. You train on the training data and evaluate your model\n",
    "on the validation data. Once your model is ready for prime time, you test it one final\n",
    "time on the test data\n",
    "Out of all there are three classic evaluation recipes:\n",
    "- simple hold-out validation\n",
    "- Kfold validation\n",
    "- iterated K-fold validation with shuffling."
   ]
  },
  {
   "cell_type": "markdown",
   "metadata": {},
   "source": [
    "### Simple Hold-Out Validation\n",
    "\n",
    "Set apart some fraction of your data as your test set. Train on the remaining data, and\n",
    "evaluate on the test set.In order to prevent information leaks, you shouldn’t tune your model based on the test set, and therefore you\n",
    "should also reserve a validation set.\n",
    "\n",
    "![](img/holdout.PNG)\n"
   ]
  },
  {
   "cell_type": "markdown",
   "metadata": {},
   "source": [
    "### K-Fold Validation\n",
    "\n",
    "With this approach, you split your data into K partitions of equal size. For each partition i, train a model on the remaining K – 1 partitions, and evaluate it on partition i.\n",
    "Your final score is then the averages of the K scores obtained. This method is helpful\n",
    "when the performance of your model shows significant variance based on your traintest split.\n",
    "\n",
    "![](img/kfold.PNG)"
   ]
  },
  {
   "cell_type": "markdown",
   "metadata": {},
   "source": [
    "### Iterated K-Fold Validation\n",
    "\n",
    "This one is for situations in which you have relatively little data available and you need\n",
    "to evaluate your model as precisely as possible. I’ve found it to be extremely helpful in\n",
    "Kaggle competitions. It consists of applying K-fold validation multiple times, shuffling\n",
    "the data every time before splitting it K ways. The final score is the average of the\n",
    "scores obtained at each run of K-fold validation. Note that you end up training and\n",
    "evaluating P × K models (where P is the number of iterations you use), which can very\n",
    "expensive."
   ]
  },
  {
   "cell_type": "markdown",
   "metadata": {},
   "source": [
    "### Important Points\n",
    "\n",
    "- Data representativeness—You want both your training set and test set to be representative of the data at hand. For instance, if you’re trying to classify images of digits, and you’re starting from an array of samples where the samples are ordered by their class, taking the first 80% of the array as your training set and the remaining 20% as your test set will result in your training set containing only classes 0–7, whereas your test set contains only classes 8–9. This seems like a ridiculous mistake, but it’s surprisingly common. For this reason, you usually should randomly shuffle your data before splitting it into training and test sets.\n",
    "- The arrow of time—If you’re trying to predict the future given the past (for example, tomorrow’s weather, stock movements, and so on), you should not randomly shuffle your data before splitting it, because doing so will create a temporal leak: your model will effectively be trained on data from the future. In such situations, you should always make sure all data in your test set is posterior to the data in the training set\n",
    "- Redundancy in your data—If some data points in your data appear twice (fairly common with real-world data), then shuffling the data and splitting it into a training set and a validation set will result in redundancy between the training and validation sets. In effect, you’ll be testing on part of your training data, which is the worst thing you can do! Make sure your training set and validation set are disjoint. \n"
   ]
  },
  {
   "cell_type": "markdown",
   "metadata": {},
   "source": [
    "## Data preprocessing, feature engineering, and feature learning\n",
    "\n",
    "### Data Preprocessing for NNs\n",
    "\n",
    "#### Vectorisation\n",
    "All inputs and targets in a neural network must be tensors of floating-point data (or, in\n",
    "specific cases, tensors of integers). Whatever data you need to process—sound,\n",
    "images, text—you must first turn into tensors, a step called data vectorization.\n",
    "\n",
    "#### Value Normalisation\n",
    "\n",
    "It isn’t safe to feed into a neural network data that takes relatively large values (for example, multidigit integers, which are much larger than the initial values taken\n",
    "by the weights of a network) or data that is heterogeneous (for example, data where one\n",
    "feature is in the range 0–1 and another is in the range 100–200). Doing so can trigger\n",
    "large gradient updates that will prevent the network from converging. To make learning\n",
    "easier for your network, your data should have the following characteristics:\n",
    "\n",
    "- Take small values—Typically, most values should be in the 0–1 range\n",
    "- Be homogenous—That is, all features should take values in roughly the same range.\n",
    "- (Stricter) Normalize each feature independently to have a mean of 0.\n",
    "- (Stricter) Normalize each feature independently to have a standard deviation of 1.\n",
    "\n",
    "```python\n",
    "x -= x.mean(axis=0)\n",
    "x /= x.std(axis=0)\n",
    "```\n",
    "\n",
    ">  In general, with neural networks, it’s safe to input missing values as 0, with the condition that 0 isn’t already a meaningful value. The network will learn from exposure to\n",
    "the data that the value 0 means missing data and will start ignoring the value.\n",
    " Note that if you’re expecting missing values in the test data, but the network was\n",
    "trained on data without any missing values, the network won’t have learned to ignore\n",
    "missing values! In this situation, you should artificially generate training samples with\n",
    "missing entries: copy some training samples several times, and drop some of the features that you expect are likely to be missing in the test data. "
   ]
  },
  {
   "cell_type": "markdown",
   "metadata": {},
   "source": [
    "### Feature Engineering\n",
    "\n",
    "Feature engineering is the process of using your own knowledge about the data and about\n",
    "the machine-learning algorithm at hand (in this case, a neural network) to make the\n",
    "algorithm work better by applying\n",
    "hardcoded (nonlearned) transformations to the data before it goes\n",
    "into the model.\n",
    "\n",
    "![](img/featengin.PNG)\n",
    "\n",
    " Before deep learning, feature engineering used to be critical, because classical\n",
    "shallow algorithms didn’t have hypothesis spaces rich enough to learn useful features\n",
    "by themselves. The way you presented the data to the algorithm was essential to its success. For instance, before convolutional neural networks became successful on the\n",
    "MNIST digit-classification problem, solutions were typically based on hardcoded features such as the number of loops in a digit image, the height of each digit in an\n",
    "image, a histogram of pixel values, and so on.\n",
    " Fortunately, modern deep learning removes the need for most feature engineering, because neural networks are capable of automatically extracting useful features\n",
    "from raw data. Does this mean you don’t have to worry about feature engineering as\n",
    "long as you’re using deep neural networks? No, for two reasons:\n",
    "\n",
    "- Good features still allow you to solve problems more elegantly while using fewer resources. For instance, it would be ridiculous to solve the problem of reading a clock face using a convolutional neural network.\n",
    "- Good features let you solve a problem with far less data. The ability of deeplearning models to learn features on their own relies on having lots of training data available; if you have only a few samples, then the information value in their features becomes critical\n"
   ]
  },
  {
   "cell_type": "markdown",
   "metadata": {},
   "source": [
    "## Overfitting and Underfitting\n",
    "\n",
    "The fundamental issue in machine learning is the tension between optimization\n",
    "and generalization. Optimization refers to the process of adjusting a model to get the\n",
    "best performance possible on the training data (the learning in machine learning),\n",
    "whereas generalization refers to how well the trained model performs on data it has\n",
    "never seen before.\n",
    "\n",
    "At the beginning of training, optimization and generalization are correlated: the\n",
    "lower the loss on training data, the lower the loss on test data. While this is happening,\n",
    "your model is said to be underfit: there is still progress to be made; the network hasn’t\n",
    "yet modeled all relevant patterns in the training data. But after a certain number of\n",
    "iterations on the training data, generalization stops improving, and validation metrics\n",
    "stall and then begin to degrade: the model is starting to overfit. That is, it’s beginning\n",
    "to learn patterns that are specific to the training data but that are misleading or irrelevant when it comes to new data.\n",
    "\n",
    "- To prevent a model from learning misleading or irrelevant patterns found in the training data, the best solution is to get more training data.\n",
    "- modulate the quantity of information that your model is allowed to store or to add constraints on what information it’s allowed to store. If a network can only afford to memorize a small number of patterns, the optimization process will force it to focus on the most prominent patterns, which have a better chance of generalizing well.\n",
    "\n",
    "The processing of fighting overfitting this way is called __regularization__.\n",
    "\n",
    "### Regularisation : Reducing the network’s size\n",
    "\n",
    "\n",
    "The simplest way to prevent overfitting is to reduce the size of the model: the number\n",
    "of learnable parameters in the model (which is determined by the number of layers\n",
    "and the number of units per layer).\n",
    "__The number of learnable parameters in a model is often referred to as the model’s capacity.__\n",
    "\n",
    ">  Always keep this in mind: deeplearning models tend to be good at fitting to the training data, but the real challenge\n",
    "is generalization, not fitting.\n",
    "\n",
    "___There is\n",
    "a compromise to be found between too much capacity and not enough capacity.___\n",
    "\n",
    "### Regularisation: Adding Weight Regularisation\n",
    "\n",
    " A simple model in this context is a model where the distribution of parameter values\n",
    "has less entropy (or a model with fewer parameters, as you saw in the previous section). Thus a common way to mitigate overfitting is to put constraints on the complexity of a network by forcing its weights to take only small values, which makes the\n",
    "distribution of weight values more regular. This is called weight regularization, and it’s\n",
    "done by adding to the loss function of the network a cost associated with having large\n",
    "weights. This cost comes in two flavors:\n",
    "- L1 regularization—The cost added is proportional to the absolute value of the weight coefficients (the L1 norm of the weights).\n",
    "- L2 regularization—The cost added is proportional to the square of the value of the weight coefficients (the L2 norm of the weights). L2 regularization is also called weight decay in the context of neural networks. Don’t let the different name confuse you: weight decay is mathematically the same as L2 regularization.\n",
    "\n",
    "```python\n",
    "\n",
    "from keras import regularizers\n",
    "model = models.Sequential()\n",
    "model.add(layers.Dense(16, kernel_regularizer=regularizers.l2(0.001),\n",
    "activation='relu', input_shape=(10000,)))\n",
    "model.add(layers.Dense(16, kernel_regularizer=regularizers.l2(0.001),\n",
    "activation='relu'))\n",
    "model.add(layers.Dense(1, activation='sigmoid'))\n",
    "\n",
    "from keras import regularizers\n",
    "regularizers.l1(0.001)\n",
    "regularizers.l1_l2(l1=0.001, l2=0.001)\n",
    "\n",
    "```"
   ]
  },
  {
   "cell_type": "markdown",
   "metadata": {},
   "source": [
    "### Regularisation : Adding a dropout\n",
    "\n",
    "Dropout is one of the most effective and most commonly used regularization techniques for neural networks.\n",
    "\n",
    " Dropout, applied to a layer, consists of randomly dropping out\n",
    "(setting to zero) a number of output features of the layer during training. Let’s say a\n",
    "given layer would normally return a vector [0.2, 0.5, 1.3, 0.8, 1.1] for a given input\n",
    "sample during training. After applying dropout, this vector will have a few zero entries\n",
    "distributed at random: for example, [0, 0.5, 1.3, 0, 1.1]. The dropout rate is the fraction\n",
    "of the features that are zeroed out; it’s usually set between 0.2 and 0.5. At test time, no\n",
    "units are dropped out; instead, the layer’s output values are scaled down by a factor\n",
    "equal to the dropout rate, to balance for the fact that more units are active than at\n",
    "training time.\n",
    "![](img/dropout.PNG)\n",
    "\n",
    "```python\n",
    "\n",
    "model = models.Sequential()\n",
    "model.add(layers.Dense(16, activation='relu', input_shape=(10000,)))\n",
    "model.add(layers.Dropout(0.5))\n",
    "model.add(layers.Dense(16, activation='relu'))\n",
    "model.add(layers.Dropout(0.5))\n",
    "model.add(layers.Dense(1, activation='sigmoid'))\n",
    "```\n",
    "\n"
   ]
  },
  {
   "cell_type": "markdown",
   "metadata": {},
   "source": [
    "__Summarised:__\n",
    "- __Get more training data.__\n",
    "- __Reduce the capacity of the network.__\n",
    "- __Add weight regularization.__\n",
    "- __Add dropout.__\n"
   ]
  },
  {
   "cell_type": "markdown",
   "metadata": {},
   "source": [
    "## [Machine Learning Workflow](X1_HowMLWhenDL.ipynb) \n",
    "- what to do when machine learning\n",
    "\n",
    "\n",
    "### Summary\n",
    "\n",
    "- Define the problem at hand and the data on which you’ll train. Collect this data, or annotate it with labels if need be.\n",
    "- Choose how you’ll measure success on your problem. Which metrics will you monitor on your validation data?\n",
    "- Determine your evaluation protocol: hold-out validation? K-fold validation? Which portion of the data should you use for validation?\n",
    "- Develop a first model that does better than a basic baseline: a model with statistical power.\n",
    "- Develop a model that overfits.\n",
    "- Regularize your model and tune its hyperparameters, based on performance on the validation data. A lot of machine-learning research tends to focus only on this step—but keep the big picture in mind.\n"
   ]
  }
 ],
 "metadata": {
  "kernelspec": {
   "display_name": "Python 3",
   "language": "python",
   "name": "python3"
  },
  "language_info": {
   "codemirror_mode": {
    "name": "ipython",
    "version": 3
   },
   "file_extension": ".py",
   "mimetype": "text/x-python",
   "name": "python",
   "nbconvert_exporter": "python",
   "pygments_lexer": "ipython3",
   "version": "3.7.5"
  }
 },
 "nbformat": 4,
 "nbformat_minor": 4
}
