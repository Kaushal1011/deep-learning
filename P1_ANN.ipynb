{
 "cells": [
  {
   "cell_type": "markdown",
   "metadata": {},
   "source": [
    "# Artificial Neural Networks"
   ]
  },
  {
   "cell_type": "markdown",
   "metadata": {},
   "source": [
    "## Perceptron\n"
   ]
  },
  {
   "cell_type": "code",
   "execution_count": 2,
   "metadata": {},
   "outputs": [],
   "source": [
    "import numpy as np\n",
    "from sklearn.datasets import load_iris\n",
    "from sklearn.linear_model import Perceptron\n",
    "iris = load_iris()\n",
    "X = iris.data[:, (2, 3)] # petal length, petal width\n",
    "y = (iris.target == 0).astype(np.int) # Iris Setosa?\n",
    "per_clf = Perceptron()\n",
    "per_clf.fit(X, y)\n",
    "y_pred = per_clf.predict([[2, 0.5]])"
   ]
  },
  {
   "cell_type": "code",
   "execution_count": 3,
   "metadata": {},
   "outputs": [
    {
     "data": {
      "text/plain": [
       "array([0])"
      ]
     },
     "execution_count": 3,
     "metadata": {},
     "output_type": "execute_result"
    }
   ],
   "source": [
    "y_pred"
   ]
  },
  {
   "cell_type": "markdown",
   "metadata": {},
   "source": [
    "## Building an Image Classifier using the sequential api\n",
    "\n"
   ]
  },
  {
   "cell_type": "code",
   "execution_count": 2,
   "metadata": {},
   "outputs": [],
   "source": [
    "import tensorflow as tf\n",
    "from tensorflow import keras\n"
   ]
  },
  {
   "cell_type": "code",
   "execution_count": 3,
   "metadata": {},
   "outputs": [
    {
     "name": "stdout",
     "output_type": "stream",
     "text": [
      "Downloading data from https://storage.googleapis.com/tensorflow/tf-keras-datasets/train-labels-idx1-ubyte.gz\n",
      "32768/29515 [=================================] - 0s 0us/step\n",
      "Downloading data from https://storage.googleapis.com/tensorflow/tf-keras-datasets/train-images-idx3-ubyte.gz\n",
      "26427392/26421880 [==============================] - 3s 0us/step\n",
      "Downloading data from https://storage.googleapis.com/tensorflow/tf-keras-datasets/t10k-labels-idx1-ubyte.gz\n",
      "8192/5148 [===============================================] - 0s 1us/step\n",
      "Downloading data from https://storage.googleapis.com/tensorflow/tf-keras-datasets/t10k-images-idx3-ubyte.gz\n",
      "4423680/4422102 [==============================] - 0s 0us/step\n"
     ]
    }
   ],
   "source": [
    "fashion_mnist = keras.datasets.fashion_mnist\n",
    "(X_train_full, y_train_full), (X_test, y_test) = fashion_mnist.load_data()"
   ]
  },
  {
   "cell_type": "code",
   "execution_count": 4,
   "metadata": {},
   "outputs": [],
   "source": [
    "X_valid, X_train = X_train_full[:5000] / 255.0, X_train_full[5000:] / 255.0\n",
    "y_valid, y_train = y_train_full[:5000], y_train_full[5000:]"
   ]
  },
  {
   "cell_type": "code",
   "execution_count": 5,
   "metadata": {},
   "outputs": [],
   "source": [
    "class_names = [\"T-shirt/top\", \"Trouser\", \"Pullover\", \"Dress\", \"Coat\",\n",
    " \"Sandal\", \"Shirt\", \"Sneaker\", \"Bag\", \"Ankle boot\"]\n"
   ]
  },
  {
   "cell_type": "code",
   "execution_count": 6,
   "metadata": {},
   "outputs": [],
   "source": [
    "model = keras.models.Sequential()\n",
    "model.add(keras.layers.Flatten(input_shape=[28, 28]))\n",
    "model.add(keras.layers.Dense(300, activation=\"relu\"))\n",
    "model.add(keras.layers.Dense(100, activation=\"relu\"))\n",
    "model.add(keras.layers.Dense(10, activation=\"softmax\"))\n"
   ]
  },
  {
   "cell_type": "code",
   "execution_count": 7,
   "metadata": {},
   "outputs": [],
   "source": [
    "model.compile(loss=\"sparse_categorical_crossentropy\",\n",
    " optimizer=\"sgd\",\n",
    " metrics=[\"accuracy\"])\n"
   ]
  },
  {
   "cell_type": "code",
   "execution_count": 8,
   "metadata": {},
   "outputs": [
    {
     "name": "stdout",
     "output_type": "stream",
     "text": [
      "Train on 55000 samples, validate on 5000 samples\n",
      "Epoch 1/30\n",
      "55000/55000 [==============================] - 7s 125us/sample - loss: 0.7011 - accuracy: 0.7710 - val_loss: 0.5119 - val_accuracy: 0.8250\n",
      "Epoch 2/30\n",
      "55000/55000 [==============================] - 5s 84us/sample - loss: 0.4784 - accuracy: 0.8335 - val_loss: 0.4546 - val_accuracy: 0.8444\n",
      "Epoch 3/30\n",
      "55000/55000 [==============================] - 5s 83us/sample - loss: 0.4347 - accuracy: 0.8481 - val_loss: 0.4103 - val_accuracy: 0.85940.4357 - accu\n",
      "Epoch 4/30\n",
      "55000/55000 [==============================] - 4s 79us/sample - loss: 0.4090 - accuracy: 0.8568 - val_loss: 0.4230 - val_accuracy: 0.8484loss: 0.4141 - accuracy:  - ETA: 2s - ETA: 1s - loss: 0.4135 - accuracy: 0.85 - ETA: 1s - ETA: 0s - loss:\n",
      "Epoch 5/30\n",
      "55000/55000 [==============================] - 4s 81us/sample - loss: 0.3890 - accuracy: 0.8630 - val_loss: 0.3860 - val_accuracy: 0.8704\n",
      "Epoch 6/30\n",
      "55000/55000 [==============================] - 4s 79us/sample - loss: 0.3742 - accuracy: 0.8674 - val_loss: 0.3751 - val_accuracy: 0.8696\n",
      "Epoch 7/30\n",
      "55000/55000 [==============================] - 4s 79us/sample - loss: 0.3619 - accuracy: 0.8718 - val_loss: 0.3742 - val_accuracy: 0.8634\n",
      "Epoch 8/30\n",
      "55000/55000 [==============================] - 4s 78us/sample - loss: 0.3494 - accuracy: 0.8759 - val_loss: 0.3611 - val_accuracy: 0.8732\n",
      "Epoch 9/30\n",
      "55000/55000 [==============================] - 4s 79us/sample - loss: 0.3403 - accuracy: 0.8785 - val_loss: 0.3507 - val_accuracy: 0.8766\n",
      "Epoch 10/30\n",
      "55000/55000 [==============================] - 4s 79us/sample - loss: 0.3305 - accuracy: 0.8821 - val_loss: 0.3470 - val_accuracy: 0.8778 2s - loss: 0.3271 - accu - ETA: 1s - - ETA: 0s - loss: 0.3312 - accuracy: 0.88 - ETA: 0s - loss: 0.3311 - accuracy: 0. - ETA: 0s - loss: 0.3 - ETA: 0s - loss: 0.3300 - accuracy:  - ETA: 0s - loss: 0.3301 - accuracy: 0.\n",
      "Epoch 11/30\n",
      "55000/55000 [==============================] - 5s 83us/sample - loss: 0.3218 - accuracy: 0.8856 - val_loss: 0.3524 - val_accuracy: 0.8748\n",
      "Epoch 12/30\n",
      "55000/55000 [==============================] - 4s 80us/sample - loss: 0.3138 - accuracy: 0.8873 - val_loss: 0.3307 - val_accuracy: 0.8808loss: 0.3174 - accura - ETA: 3s - loss: 0.3134 - ac - ETA: 2s - loss: 0.3157 - accuracy: 0. - ETA - ETA: 1s - loss: 0.3149 - accuracy: 0. - ETA: 1s - loss: 0.3142 - accuracy: 0.88 - ETA: 1s - loss: 0.3149  - ETA: 1s - los - ETA: 0s - loss: 0.3151 - accuracy - ETA: 0s - loss: 0.3147 - accuracy: 0.\n",
      "Epoch 13/30\n",
      "55000/55000 [==============================] - 5s 86us/sample - loss: 0.3068 - accuracy: 0.8894 - val_loss: 0.3298 - val_accuracy: 0.8828\n",
      "Epoch 14/30\n",
      "55000/55000 [==============================] - 5s 83us/sample - loss: 0.2998 - accuracy: 0.8917 - val_loss: 0.3292 - val_accuracy: 0.8804\n",
      "Epoch 15/30\n",
      "55000/55000 [==============================] - 4s 80us/sample - loss: 0.2941 - accuracy: 0.8946 - val_loss: 0.3606 - val_accuracy: 0.8652\n",
      "Epoch 16/30\n",
      "55000/55000 [==============================] - 5s 82us/sample - loss: 0.2882 - accuracy: 0.8958 - val_loss: 0.3230 - val_accuracy: 0.8788A: 1s - ETA: 0s - loss: 0.2864 - accura - ETA: 0s - loss: 0.2861 -  - ETA: 0s - loss: 0.2875 - accuracy: \n",
      "Epoch 17/30\n",
      "55000/55000 [==============================] - 5s 82us/sample - loss: 0.2815 - accuracy: 0.8988 - val_loss: 0.3165 - val_accuracy: 0.8864 accuracy:  - ETA: 0s - loss: 0.2807 - accuracy: 0.\n",
      "Epoch 18/30\n",
      "55000/55000 [==============================] - 4s 81us/sample - loss: 0.2773 - accuracy: 0.9005 - val_loss: 0.3273 - val_accuracy: 0.8848- l - ETA: 1s - loss: 0.2757 - ac\n",
      "Epoch 19/30\n",
      "55000/55000 [==============================] - 4s 81us/sample - loss: 0.2712 - accuracy: 0.9029 - val_loss: 0.3464 - val_accuracy: 0.8704s - loss: 0.2709 - accuracy: 0.\n",
      "Epoch 20/30\n",
      "55000/55000 [==============================] - 5s 83us/sample - loss: 0.2669 - accuracy: 0.9032 - val_loss: 0.3127 - val_accuracy: 0.8862s - loss: 0 - ETA: 1s - loss: 0.2691 - ac\n",
      "Epoch 21/30\n",
      "55000/55000 [==============================] - 4s 81us/sample - loss: 0.2618 - accuracy: 0.9056 - val_loss: 0.2969 - val_accuracy: 0.8914- loss: 0.2608 - accuracy: 0.90 - ETA: 3s - ETA: 2s - loss: 0.2583 -  - ETA: 1s - loss: 0.2597 - accura - ETA: 1s - los - ETA: 0s - loss: 0.2595 - accuracy:  - ETA: 0s - loss: 0.2589 - accuracy:  - ETA: 0s - loss: 0.2 - ETA: 0s - loss: 0.2622 - accuracy: 0.90\n",
      "Epoch 22/30\n",
      "55000/55000 [==============================] - 4s 82us/sample - loss: 0.2569 - accuracy: 0.9069 - val_loss: 0.3177 - val_accuracy: 0.8878\n",
      "Epoch 23/30\n",
      "55000/55000 [==============================] - 5s 82us/sample - loss: 0.2518 - accuracy: 0.9099 - val_loss: 0.3014 - val_accuracy: 0.8912\n",
      "Epoch 24/30\n",
      "55000/55000 [==============================] - 5s 83us/sample - loss: 0.2478 - accuracy: 0.9107 - val_loss: 0.3037 - val_accuracy: 0.8890\n",
      "Epoch 25/30\n",
      "55000/55000 [==============================] - 5s 82us/sample - loss: 0.2449 - accuracy: 0.9122 - val_loss: 0.3041 - val_accuracy: 0.8904\n",
      "Epoch 26/30\n",
      "55000/55000 [==============================] - 4s 82us/sample - loss: 0.2405 - accuracy: 0.9132 - val_loss: 0.2974 - val_accuracy: 0.8920: 0.2429 - ac - ETA: 1s - ETA\n",
      "Epoch 27/30\n",
      "55000/55000 [==============================] - 4s 81us/sample - loss: 0.2356 - accuracy: 0.9146 - val_loss: 0.3093 - val_accuracy: 0.8850\n",
      "Epoch 28/30\n",
      "55000/55000 [==============================] - 4s 81us/sample - loss: 0.2327 - accuracy: 0.9159 - val_loss: 0.3066 - val_accuracy: 0.8888ETA: 1s - loss: 0.2319 - accuracy: 0.91 - ETA: 1s - loss: 0.2319 - accu - ETA: 1s - loss: 0 - ETA: 0s - los\n",
      "Epoch 29/30\n",
      "55000/55000 [==============================] - 4s 82us/sample - loss: 0.2298 - accuracy: 0.9166 - val_loss: 0.2930 - val_accuracy: 0.8930A: 2s - loss: 0.2337 - accuracy: 0. - ETA: 2s - loss: 0.2340 - accuracy - ETA: 2s - loss: 0.2346  - ETA: 2s - loss: 0.2318 - ac - ETA: 1s - loss: 0.2303 - accura - ETA: 1s - ETA: 0s - loss: 0\n",
      "Epoch 30/30\n",
      "55000/55000 [==============================] - 4s 81us/sample - loss: 0.2253 - accuracy: 0.9190 - val_loss: 0.2985 - val_accuracy: 0.8940- loss: 0.2192 - accuracy: 0. - E - ETA: 2s - loss: 0.2 - ETA: 2s - loss: 0.2261 - accuracy - ETA: 1s - loss: 0.2253 - accu - ETA: 0s - loss: 0.2252 -  - ETA: 0s - loss: 0.2252 - accuracy: 0.\n"
     ]
    }
   ],
   "source": [
    "history = model.fit(X_train, y_train, epochs=30,validation_data=(X_valid, y_valid))"
   ]
  },
  {
   "cell_type": "code",
   "execution_count": 9,
   "metadata": {},
   "outputs": [
    {
     "data": {
      "image/png": "[encoded data removed]",
      "text/plain": [
       "<Figure size 576x360 with 1 Axes>"
      ]
     },
     "metadata": {
      "needs_background": "light"
     },
     "output_type": "display_data"
    }
   ],
   "source": [
    "import pandas as pd\n",
    "import matplotlib.pyplot as plt\n",
    "\n",
    "pd.DataFrame(history.history).plot(figsize=(8, 5))\n",
    "plt.grid(True)\n",
    "plt.gca().set_ylim(0, 1) # set the vertical range to [0-1]\n",
    "plt.show()\n"
   ]
  },
  {
   "cell_type": "code",
   "execution_count": null,
   "metadata": {},
   "outputs": [],
   "source": []
  }
 ],
 "metadata": {
  "kernelspec": {
   "display_name": "Python 3",
   "language": "python",
   "name": "python3"
  },
  "language_info": {
   "codemirror_mode": {
    "name": "ipython",
    "version": 3
   },
   "file_extension": ".py",
   "mimetype": "text/x-python",
   "name": "python",
   "nbconvert_exporter": "python",
   "pygments_lexer": "ipython3",
   "version": "3.7.5"
  }
 },
 "nbformat": 4,
 "nbformat_minor": 4
}
